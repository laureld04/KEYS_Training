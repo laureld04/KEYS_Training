{
 "cells": [
  {
   "cell_type": "code",
   "execution_count": 3,
   "metadata": {},
   "outputs": [
    {
     "name": "stdout",
     "output_type": "stream",
     "text": [
      "\n",
      "The following have been reloaded with a version change:\n",
      "  1) python/3.5/3.5.5 => python/3.8/3.8.0\n",
      "\n",
      "Using base prefix '/opt/ohpc/pub/apps/python/3.5.5'\n",
      "New python executable in /home/u23/laureld/MSBIL_py/bin/python3.5\n",
      "Also creating executable in /home/u23/laureld/MSBIL_py/bin/python\n",
      "Installing setuptools, pip, wheel...\n",
      "done.\n"
     ]
    }
   ],
   "source": [
    "!module load python/3.8/3.8.0\n",
    "!mkdir ~/MSBIL_py\n",
    "!virtualenv --system-site-packages ~/MSBIL_py"
   ]
  },
  {
   "cell_type": "code",
   "execution_count": 4,
   "metadata": {},
   "outputs": [
    {
     "name": "stdout",
     "output_type": "stream",
     "text": [
      "/home/u23/laureld/MSBIL_py/bin/python\r\n"
     ]
    }
   ],
   "source": [
    "!source ~/MSBIL_py/bin/activate; which python"
   ]
  },
  {
   "cell_type": "code",
   "execution_count": 7,
   "metadata": {},
   "outputs": [
    {
     "name": "stdout",
     "output_type": "stream",
     "text": [
      "\u001b[33mDEPRECATION: Python 3.5 reached the end of its life on September 13th, 2020. Please upgrade your Python as Python 3.5 is no longer maintained. pip 21.0 will drop support for Python 3.5 in January 2021. pip 21.0 will remove support for this functionality.\u001b[0m\n",
      "Requirement already satisfied: scikit-image in /home/u23/laureld/.local/lib/python3.5/site-packages (0.15.0)\n",
      "Requirement already satisfied: matplotlib!=3.0.0,>=2.0.0 in /opt/ohpc/pub/apps/python/3.5.5/lib/python3.5/site-packages (from scikit-image) (3.0.3)\n",
      "Requirement already satisfied: imageio>=2.0.1 in /home/u23/laureld/.local/lib/python3.5/site-packages (from scikit-image) (2.9.0)\n",
      "Requirement already satisfied: pillow>=4.3.0 in /home/u23/laureld/.local/lib/python3.5/site-packages (from scikit-image) (7.2.0)\n",
      "Requirement already satisfied: PyWavelets>=0.4.0 in /home/u23/laureld/.local/lib/python3.5/site-packages (from scikit-image) (1.1.1)\n",
      "Requirement already satisfied: networkx>=2.0 in /opt/ohpc/pub/apps/python/3.5.5/lib/python3.5/site-packages (from scikit-image) (2.3)\n",
      "Requirement already satisfied: scipy>=0.17.0 in /opt/ohpc/pub/apps/python/3.5.5/lib/python3.5/site-packages (from scikit-image) (1.3.1)\n",
      "Requirement already satisfied: python-dateutil>=2.1 in /opt/ohpc/pub/apps/python/3.5.5/lib/python3.5/site-packages (from matplotlib!=3.0.0,>=2.0.0->scikit-image) (2.8.0)\n",
      "Requirement already satisfied: cycler>=0.10 in /opt/ohpc/pub/apps/python/3.5.5/lib/python3.5/site-packages (from matplotlib!=3.0.0,>=2.0.0->scikit-image) (0.10.0)\n",
      "Requirement already satisfied: kiwisolver>=1.0.1 in /opt/ohpc/pub/apps/python/3.5.5/lib/python3.5/site-packages (from matplotlib!=3.0.0,>=2.0.0->scikit-image) (1.1.0)\n",
      "Requirement already satisfied: pyparsing!=2.0.4,!=2.1.2,!=2.1.6,>=2.0.1 in /opt/ohpc/pub/apps/python/3.5.5/lib/python3.5/site-packages (from matplotlib!=3.0.0,>=2.0.0->scikit-image) (2.4.0)\n",
      "Requirement already satisfied: numpy>=1.10.0 in /opt/ohpc/pub/apps/python/3.5.5/lib/python3.5/site-packages (from matplotlib!=3.0.0,>=2.0.0->scikit-image) (1.18.1)\n",
      "Requirement already satisfied: decorator>=4.3.0 in /opt/ohpc/pub/apps/python/3.5.5/lib/python3.5/site-packages (from networkx>=2.0->scikit-image) (4.4.0)\n",
      "Requirement already satisfied: six>=1.5 in /opt/ohpc/pub/apps/python/3.5.5/lib/python3.5/site-packages (from python-dateutil>=2.1->matplotlib!=3.0.0,>=2.0.0->scikit-image) (1.12.0)\n",
      "Requirement already satisfied: setuptools in /home/u23/laureld/MSBIL_py/lib/python3.5/site-packages (from kiwisolver>=1.0.1->matplotlib!=3.0.0,>=2.0.0->scikit-image) (50.3.2)\n",
      "\u001b[33mDEPRECATION: Python 3.5 reached the end of its life on September 13th, 2020. Please upgrade your Python as Python 3.5 is no longer maintained. pip 21.0 will drop support for Python 3.5 in January 2021. pip 21.0 will remove support for this functionality.\u001b[0m\n",
      "Collecting nipype\n",
      "  Downloading nipype-1.4.2-py3-none-any.whl (3.1 MB)\n",
      "\u001b[K     |################################| 3.1 MB 3.1 MB/s eta 0:00:01\n",
      "\u001b[?25hRequirement already satisfied: networkx>=1.9 in /opt/ohpc/pub/apps/python/3.5.5/lib/python3.5/site-packages (from nipype) (2.3)\n",
      "Requirement already satisfied: scipy>=0.14 in /opt/ohpc/pub/apps/python/3.5.5/lib/python3.5/site-packages (from nipype) (1.3.1)\n",
      "Requirement already satisfied: click>=6.6.0 in /opt/ohpc/pub/apps/python/3.5.5/lib/python3.5/site-packages (from nipype) (7.0)\n",
      "Collecting etelemetry\n",
      "  Downloading etelemetry-0.2.1-py3-none-any.whl (6.2 kB)\n",
      "Requirement already satisfied: traits!=5.0,>=4.6 in /opt/ohpc/pub/apps/python/3.5.5/lib/python3.5/site-packages (from nipype) (5.1.1)\n",
      "Collecting pydot>=1.2.3\n",
      "  Downloading pydot-1.4.1-py2.py3-none-any.whl (19 kB)\n",
      "Collecting neurdflib\n",
      "  Downloading neurdflib-5.0.1-py3-none-any.whl (226 kB)\n",
      "\u001b[K     |################################| 226 kB 36.9 MB/s eta 0:00:01\n",
      "\u001b[?25hCollecting pydotplus\n",
      "  Downloading pydotplus-2.0.2.tar.gz (278 kB)\n",
      "\u001b[K     |################################| 278 kB 18.5 MB/s eta 0:00:01\n",
      "\u001b[?25hRequirement already satisfied: nibabel>=2.1.0 in /home/u23/laureld/.local/lib/python3.5/site-packages (from nipype) (3.0.2)\n",
      "Collecting prov>=1.5.2\n",
      "  Downloading prov-1.5.3-py2.py3-none-any.whl (423 kB)\n",
      "\u001b[K     |################################| 423 kB 31.1 MB/s eta 0:00:01\n",
      "\u001b[?25hCollecting filelock>=3.0.0\n",
      "  Downloading filelock-3.0.12-py3-none-any.whl (7.6 kB)\n",
      "Collecting simplejson>=3.8.0\n",
      "  Downloading simplejson-3.17.2-cp35-cp35m-manylinux2010_x86_64.whl (127 kB)\n",
      "\u001b[K     |################################| 127 kB 39.0 MB/s eta 0:00:01\n",
      "\u001b[?25hRequirement already satisfied: numpy>=1.12; python_version < \"3.7\" in /opt/ohpc/pub/apps/python/3.5.5/lib/python3.5/site-packages (from nipype) (1.18.1)\n",
      "Requirement already satisfied: packaging in /opt/ohpc/pub/apps/python/3.5.5/lib/python3.5/site-packages (from nipype) (19.0)\n",
      "Requirement already satisfied: python-dateutil>=2.2 in /opt/ohpc/pub/apps/python/3.5.5/lib/python3.5/site-packages (from nipype) (2.8.0)\n",
      "Requirement already satisfied: decorator>=4.3.0 in /opt/ohpc/pub/apps/python/3.5.5/lib/python3.5/site-packages (from networkx>=1.9->nipype) (4.4.0)\n",
      "Requirement already satisfied: requests in /opt/ohpc/pub/apps/python/3.5.5/lib/python3.5/site-packages (from etelemetry->nipype) (2.22.0)\n",
      "Collecting ci-info>=0.2\n",
      "  Downloading ci_info-0.2.0-py3-none-any.whl (6.9 kB)\n",
      "Requirement already satisfied: six in /opt/ohpc/pub/apps/python/3.5.5/lib/python3.5/site-packages (from traits!=5.0,>=4.6->nipype) (1.12.0)\n",
      "Requirement already satisfied: pyparsing>=2.1.4 in /opt/ohpc/pub/apps/python/3.5.5/lib/python3.5/site-packages (from pydot>=1.2.3->nipype) (2.4.0)\n",
      "Collecting isodate\n",
      "  Downloading isodate-0.6.0-py2.py3-none-any.whl (45 kB)\n",
      "\u001b[K     |################################| 45 kB 1.2 MB/s  eta 0:00:01\n",
      "\u001b[?25hRequirement already satisfied: lxml>=3.3.5 in /opt/ohpc/pub/apps/python/3.5.5/lib/python3.5/site-packages (from prov>=1.5.2->nipype) (4.3.3)\n",
      "Collecting rdflib>=4.2.1\n",
      "  Downloading rdflib-5.0.0-py3-none-any.whl (231 kB)\n",
      "\u001b[K     |################################| 231 kB 39.7 MB/s eta 0:00:01\n",
      "\u001b[?25hRequirement already satisfied: chardet<3.1.0,>=3.0.2 in /opt/ohpc/pub/apps/python/3.5.5/lib/python3.5/site-packages (from requests->etelemetry->nipype) (3.0.4)\n",
      "Requirement already satisfied: urllib3!=1.25.0,!=1.25.1,<1.26,>=1.21.1 in /opt/ohpc/pub/apps/python/3.5.5/lib/python3.5/site-packages (from requests->etelemetry->nipype) (1.25.2)\n",
      "Requirement already satisfied: certifi>=2017.4.17 in /opt/ohpc/pub/apps/python/3.5.5/lib/python3.5/site-packages (from requests->etelemetry->nipype) (2019.3.9)\n",
      "Requirement already satisfied: idna<2.9,>=2.5 in /opt/ohpc/pub/apps/python/3.5.5/lib/python3.5/site-packages (from requests->etelemetry->nipype) (2.8)\n",
      "Building wheels for collected packages: pydotplus\n",
      "  Building wheel for pydotplus (setup.py) ... \u001b[?25ldone\n",
      "\u001b[?25h  Created wheel for pydotplus: filename=pydotplus-2.0.2-py3-none-any.whl size=24567 sha256=9148d31dee0f94d1031b65a296d10461927a78db631e493eebfe491bc9de814f\n",
      "  Stored in directory: /home/u23/laureld/.cache/pip/wheels/6a/64/4d/77e51edca6a40203db57182f168618f0b71c6bcfef696411f9\n",
      "Successfully built pydotplus\n",
      "Installing collected packages: ci-info, etelemetry, pydot, isodate, neurdflib, pydotplus, rdflib, prov, filelock, simplejson, nipype\n",
      "Successfully installed ci-info-0.2.0 etelemetry-0.2.1 filelock-3.0.12 isodate-0.6.0 neurdflib-5.0.1 nipype-1.4.2 prov-1.5.3 pydot-1.4.1 pydotplus-2.0.2 rdflib-5.0.0 simplejson-3.17.2\n",
      "\u001b[33mDEPRECATION: Python 3.5 reached the end of its life on September 13th, 2020. Please upgrade your Python as Python 3.5 is no longer maintained. pip 21.0 will drop support for Python 3.5 in January 2021. pip 21.0 will remove support for this functionality.\u001b[0m\n",
      "Requirement already satisfied: matplotlib in /opt/ohpc/pub/apps/python/3.5.5/lib/python3.5/site-packages (3.0.3)\n",
      "Requirement already satisfied: python-dateutil>=2.1 in /opt/ohpc/pub/apps/python/3.5.5/lib/python3.5/site-packages (from matplotlib) (2.8.0)\n",
      "Requirement already satisfied: pyparsing!=2.0.4,!=2.1.2,!=2.1.6,>=2.0.1 in /opt/ohpc/pub/apps/python/3.5.5/lib/python3.5/site-packages (from matplotlib) (2.4.0)\n",
      "Requirement already satisfied: cycler>=0.10 in /opt/ohpc/pub/apps/python/3.5.5/lib/python3.5/site-packages (from matplotlib) (0.10.0)\n",
      "Requirement already satisfied: numpy>=1.10.0 in /opt/ohpc/pub/apps/python/3.5.5/lib/python3.5/site-packages (from matplotlib) (1.18.1)\n",
      "Requirement already satisfied: kiwisolver>=1.0.1 in /opt/ohpc/pub/apps/python/3.5.5/lib/python3.5/site-packages (from matplotlib) (1.1.0)\n",
      "Requirement already satisfied: six>=1.5 in /opt/ohpc/pub/apps/python/3.5.5/lib/python3.5/site-packages (from python-dateutil>=2.1->matplotlib) (1.12.0)\n",
      "Requirement already satisfied: setuptools in /home/u23/laureld/MSBIL_py/lib/python3.5/site-packages (from kiwisolver>=1.0.1->matplotlib) (50.3.2)\n"
     ]
    },
    {
     "name": "stdout",
     "output_type": "stream",
     "text": [
      "\u001b[33mDEPRECATION: Python 3.5 reached the end of its life on September 13th, 2020. Please upgrade your Python as Python 3.5 is no longer maintained. pip 21.0 will drop support for Python 3.5 in January 2021. pip 21.0 will remove support for this functionality.\u001b[0m\n",
      "Requirement already satisfied: numpy in /opt/ohpc/pub/apps/python/3.5.5/lib/python3.5/site-packages (1.18.1)\n",
      "\u001b[33mDEPRECATION: Python 3.5 reached the end of its life on September 13th, 2020. Please upgrade your Python as Python 3.5 is no longer maintained. pip 21.0 will drop support for Python 3.5 in January 2021. pip 21.0 will remove support for this functionality.\u001b[0m\n",
      "Requirement already satisfied: nibabel in /home/u23/laureld/.local/lib/python3.5/site-packages (3.0.2)\n",
      "Requirement already satisfied: numpy>=1.12 in /opt/ohpc/pub/apps/python/3.5.5/lib/python3.5/site-packages (from nibabel) (1.18.1)\n",
      "\u001b[33mDEPRECATION: Python 3.5 reached the end of its life on September 13th, 2020. Please upgrade your Python as Python 3.5 is no longer maintained. pip 21.0 will drop support for Python 3.5 in January 2021. pip 21.0 will remove support for this functionality.\u001b[0m\n",
      "Collecting dipy\n",
      "  Using cached dipy-1.2.0.tar.gz (11.7 MB)\n",
      "\u001b[31mERROR: Package 'dipy' requires a different Python: 3.5.5 not in '>= 3.6'\u001b[0m\n",
      "\u001b[33mDEPRECATION: Python 3.5 reached the end of its life on September 13th, 2020. Please upgrade your Python as Python 3.5 is no longer maintained. pip 21.0 will drop support for Python 3.5 in January 2021. pip 21.0 will remove support for this functionality.\u001b[0m\n",
      "Requirement already satisfied: nipy in /home/u23/laureld/MSBIL_py/lib/python3.5/site-packages (0.4.2)\n",
      "Requirement already satisfied: nibabel>=1.2 in /home/u23/laureld/.local/lib/python3.5/site-packages (from nipy) (3.0.2)\n",
      "Requirement already satisfied: sympy>=0.7.0 in /home/u23/laureld/MSBIL_py/lib/python3.5/site-packages (from nipy) (1.6.2)\n",
      "Requirement already satisfied: numpy>=1.12 in /opt/ohpc/pub/apps/python/3.5.5/lib/python3.5/site-packages (from nibabel>=1.2->nipy) (1.18.1)\n",
      "Requirement already satisfied: mpmath>=0.19 in /home/u23/laureld/MSBIL_py/lib/python3.5/site-packages (from sympy>=0.7.0->nipy) (1.1.0)\n",
      "\u001b[33mDEPRECATION: Python 3.5 reached the end of its life on September 13th, 2020. Please upgrade your Python as Python 3.5 is no longer maintained. pip 21.0 will drop support for Python 3.5 in January 2021. pip 21.0 will remove support for this functionality.\u001b[0m\n",
      "Requirement already satisfied: ipykernel in /opt/ohpc/pub/apps/python/3.5.5/lib/python3.5/site-packages (5.1.1)\n",
      "Requirement already satisfied: tornado>=4.2 in /opt/ohpc/pub/apps/python/3.5.5/lib/python3.5/site-packages (from ipykernel) (6.0.2)\n",
      "Requirement already satisfied: traitlets>=4.1.0 in /opt/ohpc/pub/apps/python/3.5.5/lib/python3.5/site-packages (from ipykernel) (4.3.2)\n",
      "Requirement already satisfied: ipython>=5.0.0 in /opt/ohpc/pub/apps/python/3.5.5/lib/python3.5/site-packages (from ipykernel) (7.5.0)\n",
      "Requirement already satisfied: jupyter-client in /opt/ohpc/pub/apps/python/3.5.5/lib/python3.5/site-packages (from ipykernel) (5.2.4)\n",
      "Requirement already satisfied: six in /opt/ohpc/pub/apps/python/3.5.5/lib/python3.5/site-packages (from traitlets>=4.1.0->ipykernel) (1.12.0)\n",
      "Requirement already satisfied: ipython-genutils in /opt/ohpc/pub/apps/python/3.5.5/lib/python3.5/site-packages (from traitlets>=4.1.0->ipykernel) (0.2.0)\n",
      "Requirement already satisfied: decorator in /opt/ohpc/pub/apps/python/3.5.5/lib/python3.5/site-packages (from traitlets>=4.1.0->ipykernel) (4.4.0)\n",
      "Requirement already satisfied: setuptools>=18.5 in /home/u23/laureld/MSBIL_py/lib/python3.5/site-packages (from ipython>=5.0.0->ipykernel) (50.3.2)\n",
      "Requirement already satisfied: prompt-toolkit<2.1.0,>=2.0.0 in /opt/ohpc/pub/apps/python/3.5.5/lib/python3.5/site-packages (from ipython>=5.0.0->ipykernel) (2.0.9)\n",
      "Requirement already satisfied: pickleshare in /opt/ohpc/pub/apps/python/3.5.5/lib/python3.5/site-packages (from ipython>=5.0.0->ipykernel) (0.7.5)\n",
      "Requirement already satisfied: backcall in /opt/ohpc/pub/apps/python/3.5.5/lib/python3.5/site-packages (from ipython>=5.0.0->ipykernel) (0.1.0)\n",
      "Requirement already satisfied: jedi>=0.10 in /opt/ohpc/pub/apps/python/3.5.5/lib/python3.5/site-packages (from ipython>=5.0.0->ipykernel) (0.13.3)\n",
      "Requirement already satisfied: pygments in /opt/ohpc/pub/apps/python/3.5.5/lib/python3.5/site-packages (from ipython>=5.0.0->ipykernel) (2.4.0)\n",
      "Requirement already satisfied: pexpect; sys_platform != \"win32\" in /opt/ohpc/pub/apps/python/3.5.5/lib/python3.5/site-packages (from ipython>=5.0.0->ipykernel) (4.7.0)\n",
      "Requirement already satisfied: jupyter-core in /opt/ohpc/pub/apps/python/3.5.5/lib/python3.5/site-packages (from jupyter-client->ipykernel) (4.4.0)\n",
      "Requirement already satisfied: python-dateutil>=2.1 in /opt/ohpc/pub/apps/python/3.5.5/lib/python3.5/site-packages (from jupyter-client->ipykernel) (2.8.0)\n",
      "Requirement already satisfied: pyzmq>=13 in /opt/ohpc/pub/apps/python/3.5.5/lib/python3.5/site-packages (from jupyter-client->ipykernel) (18.0.1)\n",
      "Requirement already satisfied: wcwidth in /opt/ohpc/pub/apps/python/3.5.5/lib/python3.5/site-packages (from prompt-toolkit<2.1.0,>=2.0.0->ipython>=5.0.0->ipykernel) (0.1.7)\n",
      "Requirement already satisfied: parso>=0.3.0 in /opt/ohpc/pub/apps/python/3.5.5/lib/python3.5/site-packages (from jedi>=0.10->ipython>=5.0.0->ipykernel) (0.4.0)\n",
      "Requirement already satisfied: ptyprocess>=0.5 in /opt/ohpc/pub/apps/python/3.5.5/lib/python3.5/site-packages (from pexpect; sys_platform != \"win32\"->ipython>=5.0.0->ipykernel) (0.6.0)\n",
      "Installed kernelspec MSBIL_py in /home/u23/laureld/.local/share/jupyter/kernels/msbil_py\n"
     ]
    }
   ],
   "source": [
    "#activates the newly created virtual environment called \"MSBIL_py\"\n",
    "!source ~/MSBIL_py/bin/activate;pip install bruker2nifti; pip3 install scikit-image;pip3 install nipype; pip3 install matplotlib; pip3 install numpy; pip3 install nibabel; pip3 install dipy; pip3 install nipy; pip3 install ipykernel; python -m ipykernel install --user --name=MSBIL_py\n"
   ]
  },
  {
   "cell_type": "code",
   "execution_count": 3,
   "metadata": {},
   "outputs": [
    {
     "name": "stdout",
     "output_type": "stream",
     "text": [
      "KEYS_Training  KEYS_Training_Setup.ipynb  KEYS_module\r\n"
     ]
    }
   ],
   "source": [
    "!ls"
   ]
  },
  {
   "cell_type": "code",
   "execution_count": 6,
   "metadata": {},
   "outputs": [
    {
     "ename": "ImportError",
     "evalue": "No module named 'nipy'",
     "output_type": "error",
     "traceback": [
      "\u001b[0;31m---------------------------------------------------------------------------\u001b[0m",
      "\u001b[0;31mImportError\u001b[0m                               Traceback (most recent call last)",
      "\u001b[0;32m<ipython-input-6-71381fce5c74>\u001b[0m in \u001b[0;36m<module>\u001b[0;34m\u001b[0m\n\u001b[0;32m----> 1\u001b[0;31m \u001b[0;32mimport\u001b[0m \u001b[0mnipy\u001b[0m\u001b[0;34m\u001b[0m\u001b[0m\n\u001b[0m",
      "\u001b[0;31mImportError\u001b[0m: No module named 'nipy'"
     ]
    }
   ],
   "source": [
    "import nipy"
   ]
  },
  {
   "cell_type": "code",
   "execution_count": null,
   "metadata": {},
   "outputs": [],
   "source": []
  }
 ],
 "metadata": {
  "kernelspec": {
   "display_name": "Python 3",
   "language": "python",
   "name": "python3"
  },
  "language_info": {
   "codemirror_mode": {
    "name": "ipython",
    "version": 3
   },
   "file_extension": ".py",
   "mimetype": "text/x-python",
   "name": "python",
   "nbconvert_exporter": "python",
   "pygments_lexer": "ipython3",
   "version": "3.5.5"
  }
 },
 "nbformat": 4,
 "nbformat_minor": 2
}
