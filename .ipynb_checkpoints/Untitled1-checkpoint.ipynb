{
 "cells": [
  {
   "cell_type": "code",
   "execution_count": 13,
   "metadata": {},
   "outputs": [],
   "source": [
    "import numpy\n",
    "import nipype as ni\n",
    "import bruker2nifti #github made program, may be useful in designing with nipype version for our lab"
   ]
  },
  {
   "cell_type": "code",
   "execution_count": 7,
   "metadata": {},
   "outputs": [
    {
     "ename": "AttributeError",
     "evalue": "module 'nipype' has no attribute 'bruk2nii'",
     "output_type": "error",
     "traceback": [
      "\u001b[0;31m---------------------------------------------------------------------------\u001b[0m",
      "\u001b[0;31mAttributeError\u001b[0m                            Traceback (most recent call last)",
      "\u001b[0;32m<ipython-input-7-c65caed67769>\u001b[0m in \u001b[0;36m<module>\u001b[0;34m\u001b[0m\n\u001b[0;32m----> 1\u001b[0;31m \u001b[0mni\u001b[0m\u001b[0;34m.\u001b[0m\u001b[0mbruk2nii\u001b[0m\u001b[0;34m(\u001b[0m\u001b[0;34m)\u001b[0m\u001b[0;34m\u001b[0m\u001b[0m\n\u001b[0m",
      "\u001b[0;31mAttributeError\u001b[0m: module 'nipype' has no attribute 'bruk2nii'"
     ]
    }
   ],
   "source": [
    "ni.bruk2nii()"
   ]
  },
  {
   "cell_type": "code",
   "execution_count": 8,
   "metadata": {},
   "outputs": [
    {
     "ename": "SyntaxError",
     "evalue": "Missing parentheses in call to 'print' (<ipython-input-8-e4a099a44411>, line 21)",
     "output_type": "error",
     "traceback": [
      "\u001b[0;36m  File \u001b[0;32m\"<ipython-input-8-e4a099a44411>\"\u001b[0;36m, line \u001b[0;32m21\u001b[0m\n\u001b[0;31m    print \"Searching for raw Bruker data in \" + args.search_directory\u001b[0m\n\u001b[0m                                            ^\u001b[0m\n\u001b[0;31mSyntaxError\u001b[0m\u001b[0;31m:\u001b[0m Missing parentheses in call to 'print'\n"
     ]
    }
   ],
   "source": [
    "#from github previous work provided by Loi Do\n",
    "#! /usr/bin/env python\n",
    "\n",
    "import io_functions.file_finder as file_finder\n",
    "import io_functions.bruker_converter as bruker_converter\n",
    "import argparse\n",
    "\n",
    "### DEFINE INPUTS ##############################################################\n",
    "parser = argparse.ArgumentParser(description=\"Convert Bruker 2dseq files to NIFTI files\")\n",
    "parser.add_argument(\"-r\", \"--flip_rpe\", action=\"store_true\", help=\"Flip images with 'RPE' in the method name. Default=False\", default=False)\n",
    "parser.add_argument(\"-c\", \"--combine_dwis\", action=\"store_true\", help=\"Combine all converted DWIs into a single NIFTI. Default=False\", default=False)\n",
    "parser.add_argument(\"search_directory\", type=str, help=\"Directory containing Bruker raw Data\")\n",
    "parser.add_argument(\"output_directory\", type=str, help=\"Directory to save Converted Bruker Data\")\n",
    "\n",
    "args = parser.parse_args()\n",
    "################################################################################\n",
    "\n",
    "if (args.output_directory[-1] != '/'):\n",
    "    args.output_directory += '/'\n",
    "\n",
    "### SEARCH FOR IMAGES AND HEADERS ##############################################\n",
    "print \"Searching for raw Bruker data in \" + args.search_directory\n",
    "\n",
    "filepaths_2dseq = file_finder.scan_for_files('2dseq', args.search_directory, [])\n",
    "filepaths_method = file_finder.scan_for_files('method', args.search_directory, [])\n",
    "filepaths_visu_pars = file_finder.scan_for_files('visu_pars', args.search_directory, [])\n",
    "\n",
    "print \"Found \" + str(len(filepaths_2dseq)) + \" Image Files to Convert\"\n",
    "################################################################################\n",
    "\n",
    "\n",
    "\n",
    "### ENSURE FILES MATCH #########################################################\n",
    "files_2dseq = []\n",
    "files_method = []\n",
    "files_visu_pars = []\n",
    "\n",
    "for i in range(len(filepaths_2dseq)):\n",
    "    basepath = filepaths_2dseq[i][:-13]\n",
    "\n",
    "    method_match = False\n",
    "    visu_pars_match = False\n",
    "\n",
    "    for method in filepaths_method:\n",
    "        if (method[:-6] == basepath):\n",
    "            method_match = True\n",
    "            break\n",
    "\n",
    "    for visu_pars in filepaths_visu_pars:\n",
    "        if (visu_pars[:-17] == basepath):\n",
    "            visu_pars_match = True\n",
    "            break\n",
    "\n",
    "    if (method_match and visu_pars_match):\n",
    "        files_2dseq.append(filepaths_2dseq[i])\n",
    "        files_method.append(method)\n",
    "        files_visu_pars.append(visu_pars)\n",
    "################################################################################\n",
    "\n",
    "\n",
    "\n",
    "### CREATE NIFTIs ##############################################################\n",
    "for i in range(len(files_2dseq)):\n",
    "    try:\n",
    "        bruker_converter.create_nifti(files_2dseq[i], files_visu_pars[i], files_method[i], args.flip_rpe, args.output_directory)\n",
    "    except Exception as e:\n",
    "        print \"Could not Convert \" + files_2dseq[i]\n",
    "        print e\n",
    "\n",
    "\n",
    "    print \"Converted %d/%d\" % (i+1, len(files_2dseq))\n",
    "################################################################################\n",
    "\n",
    "\n",
    "\n",
    "### COMBINE DWIs ###############################################################\n",
    "if args.combine_dwis:\n",
    "    groups = bruker_converter.merge_dwis(args.output_directory)\n",
    "    bruker_converter.remove_files(groups)\n",
    "################################################################################"
   ]
  },
  {
   "cell_type": "code",
   "execution_count": null,
   "metadata": {},
   "outputs": [],
   "source": []
  }
 ],
 "metadata": {
  "kernelspec": {
   "display_name": "MSBIL_py",
   "language": "python",
   "name": "msbil_py"
  },
  "language_info": {
   "codemirror_mode": {
    "name": "ipython",
    "version": 3
   },
   "file_extension": ".py",
   "mimetype": "text/x-python",
   "name": "python",
   "nbconvert_exporter": "python",
   "pygments_lexer": "ipython3",
   "version": "3.5.5"
  }
 },
 "nbformat": 4,
 "nbformat_minor": 2
}
