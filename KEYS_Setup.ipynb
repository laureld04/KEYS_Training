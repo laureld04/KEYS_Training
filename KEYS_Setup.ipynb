{
 "cells": [
  {
   "cell_type": "code",
   "execution_count": 10,
   "metadata": {},
   "outputs": [
    {
     "name": "stdout",
     "output_type": "stream",
     "text": [
      "created virtual environment CPython3.6.5.final.0-64 in 2490ms\r\n",
      "  creator CPython3Posix(dest=/home/u23/laureld/KEYS_py, clear=False, global=True)\r\n",
      "  seeder FromAppData(download=False, pip=latest, setuptools=latest, wheel=latest, via=copy, app_data_dir=/home/u23/laureld/.local/share/virtualenv/seed-app-data/v1.0.1)\r\n",
      "  activators BashActivator,CShellActivator,FishActivator,PowerShellActivator,PythonActivator,XonshActivator\r\n"
     ]
    }
   ],
   "source": [
    "!mkdir ~/KEYS_py\n",
    "!virtualenv --system-site-packages ~/KEYS_py"
   ]
  },
  {
   "cell_type": "code",
   "execution_count": 11,
   "metadata": {},
   "outputs": [
    {
     "name": "stdout",
     "output_type": "stream",
     "text": [
      "Requirement already satisfied: scikit-image in /home/u23/laureld/.local/lib/python3.6/site-packages (0.17.2)\n",
      "Requirement already satisfied: matplotlib!=3.0.0,>=2.0.0 in /opt/ohpc/pub/apps/python/3.6.5/lib/python3.6/site-packages (from scikit-image) (3.3.1)\n",
      "Requirement already satisfied: imageio>=2.3.0 in /home/u23/laureld/.local/lib/python3.6/site-packages (from scikit-image) (2.9.0)\n",
      "Requirement already satisfied: scipy>=1.0.1 in /opt/ohpc/pub/apps/python/3.6.5/lib/python3.6/site-packages (from scikit-image) (1.5.4)\n",
      "Requirement already satisfied: numpy>=1.15.1 in /opt/ohpc/pub/apps/python/3.6.5/lib/python3.6/site-packages (from scikit-image) (1.19.5)\n",
      "Requirement already satisfied: tifffile>=2019.7.26 in /home/u23/laureld/.local/lib/python3.6/site-packages (from scikit-image) (2020.7.22)\n",
      "Requirement already satisfied: pillow!=7.1.0,!=7.1.1,>=4.3.0 in /home/u23/laureld/.local/lib/python3.6/site-packages (from scikit-image) (7.2.0)\n",
      "Collecting networkx>=2.0\n",
      "  Using cached networkx-2.5.1-py3-none-any.whl (1.6 MB)\n",
      "Requirement already satisfied: PyWavelets>=1.1.1 in /home/u23/laureld/.local/lib/python3.6/site-packages (from scikit-image) (1.1.1)\n",
      "Requirement already satisfied: kiwisolver>=1.0.1 in /opt/ohpc/pub/apps/python/3.6.5/lib/python3.6/site-packages (from matplotlib!=3.0.0,>=2.0.0->scikit-image) (1.2.0)\n",
      "Requirement already satisfied: cycler>=0.10 in /opt/ohpc/pub/apps/python/3.6.5/lib/python3.6/site-packages (from matplotlib!=3.0.0,>=2.0.0->scikit-image) (0.10.0)\n",
      "Requirement already satisfied: python-dateutil>=2.1 in /opt/ohpc/pub/apps/python/3.6.5/lib/python3.6/site-packages (from matplotlib!=3.0.0,>=2.0.0->scikit-image) (2.8.1)\n",
      "Requirement already satisfied: certifi>=2020.06.20 in /opt/ohpc/pub/apps/python/3.6.5/lib/python3.6/site-packages (from matplotlib!=3.0.0,>=2.0.0->scikit-image) (2020.6.20)\n",
      "Requirement already satisfied: pyparsing!=2.0.4,!=2.1.2,!=2.1.6,>=2.0.3 in /opt/ohpc/pub/apps/python/3.6.5/lib/python3.6/site-packages (from matplotlib!=3.0.0,>=2.0.0->scikit-image) (2.4.7)\n",
      "Requirement already satisfied: decorator<5,>=4.3 in /opt/ohpc/pub/apps/python/3.6.5/lib/python3.6/site-packages (from networkx>=2.0->scikit-image) (4.4.2)\n",
      "Requirement already satisfied: six in /opt/ohpc/pub/apps/python/3.6.5/lib/python3.6/site-packages (from cycler>=0.10->matplotlib!=3.0.0,>=2.0.0->scikit-image) (1.14.0)\n",
      "Installing collected packages: networkx\n",
      "Successfully installed networkx-2.5.1\n",
      "\u001b[33mWARNING: You are using pip version 20.1; however, version 21.1.2 is available.\n",
      "You should consider upgrading via the '/home/u23/laureld/KEYS_py/bin/python -m pip install --upgrade pip' command.\u001b[0m\n",
      "Requirement already satisfied: numpy in /opt/ohpc/pub/apps/python/3.6.5/lib/python3.6/site-packages (1.19.5)\n",
      "\u001b[33mWARNING: You are using pip version 20.1; however, version 21.1.2 is available.\n",
      "You should consider upgrading via the '/home/u23/laureld/KEYS_py/bin/python -m pip install --upgrade pip' command.\u001b[0m\n",
      "Requirement already satisfied: matplotlib in /opt/ohpc/pub/apps/python/3.6.5/lib/python3.6/site-packages (3.3.1)\n",
      "Requirement already satisfied: numpy>=1.15 in /opt/ohpc/pub/apps/python/3.6.5/lib/python3.6/site-packages (from matplotlib) (1.19.5)\n",
      "Requirement already satisfied: kiwisolver>=1.0.1 in /opt/ohpc/pub/apps/python/3.6.5/lib/python3.6/site-packages (from matplotlib) (1.2.0)\n",
      "Requirement already satisfied: pillow>=6.2.0 in /home/u23/laureld/.local/lib/python3.6/site-packages (from matplotlib) (7.2.0)\n",
      "Requirement already satisfied: certifi>=2020.06.20 in /opt/ohpc/pub/apps/python/3.6.5/lib/python3.6/site-packages (from matplotlib) (2020.6.20)\n",
      "Requirement already satisfied: python-dateutil>=2.1 in /opt/ohpc/pub/apps/python/3.6.5/lib/python3.6/site-packages (from matplotlib) (2.8.1)\n",
      "Requirement already satisfied: pyparsing!=2.0.4,!=2.1.2,!=2.1.6,>=2.0.3 in /opt/ohpc/pub/apps/python/3.6.5/lib/python3.6/site-packages (from matplotlib) (2.4.7)\n",
      "Requirement already satisfied: cycler>=0.10 in /opt/ohpc/pub/apps/python/3.6.5/lib/python3.6/site-packages (from matplotlib) (0.10.0)\n",
      "Requirement already satisfied: six>=1.5 in /opt/ohpc/pub/apps/python/3.6.5/lib/python3.6/site-packages (from python-dateutil>=2.1->matplotlib) (1.14.0)\n",
      "\u001b[33mWARNING: You are using pip version 20.1; however, version 21.1.2 is available.\n",
      "You should consider upgrading via the '/home/u23/laureld/KEYS_py/bin/python -m pip install --upgrade pip' command.\u001b[0m\n",
      "Requirement already satisfied: ipykernel in /opt/ohpc/pub/apps/python/3.6.5/lib/python3.6/site-packages (5.2.1)\n",
      "Requirement already satisfied: traitlets>=4.1.0 in /opt/ohpc/pub/apps/python/3.6.5/lib/python3.6/site-packages (from ipykernel) (4.3.3)\n",
      "Requirement already satisfied: ipython>=5.0.0 in /opt/ohpc/pub/apps/python/3.6.5/lib/python3.6/site-packages (from ipykernel) (7.14.0)\n",
      "Requirement already satisfied: jupyter-client in /opt/ohpc/pub/apps/python/3.6.5/lib/python3.6/site-packages (from ipykernel) (6.1.3)\n",
      "Requirement already satisfied: tornado>=4.2 in /opt/ohpc/pub/apps/python/3.6.5/lib/python3.6/site-packages (from ipykernel) (6.0.4)\n",
      "Requirement already satisfied: decorator in /opt/ohpc/pub/apps/python/3.6.5/lib/python3.6/site-packages (from traitlets>=4.1.0->ipykernel) (4.4.2)\n",
      "Requirement already satisfied: ipython-genutils in /opt/ohpc/pub/apps/python/3.6.5/lib/python3.6/site-packages (from traitlets>=4.1.0->ipykernel) (0.2.0)\n",
      "Requirement already satisfied: six in /opt/ohpc/pub/apps/python/3.6.5/lib/python3.6/site-packages (from traitlets>=4.1.0->ipykernel) (1.14.0)\n",
      "Requirement already satisfied: prompt-toolkit!=3.0.0,!=3.0.1,<3.1.0,>=2.0.0 in /opt/ohpc/pub/apps/python/3.6.5/lib/python3.6/site-packages (from ipython>=5.0.0->ipykernel) (3.0.5)\n",
      "Requirement already satisfied: backcall in /opt/ohpc/pub/apps/python/3.6.5/lib/python3.6/site-packages (from ipython>=5.0.0->ipykernel) (0.1.0)\n",
      "Requirement already satisfied: setuptools>=18.5 in /home/u23/laureld/KEYS_py/lib/python3.6/site-packages (from ipython>=5.0.0->ipykernel) (46.1.3)\n",
      "Requirement already satisfied: pexpect; sys_platform != \"win32\" in /opt/ohpc/pub/apps/python/3.6.5/lib/python3.6/site-packages (from ipython>=5.0.0->ipykernel) (4.8.0)\n",
      "Requirement already satisfied: pygments in /opt/ohpc/pub/apps/python/3.6.5/lib/python3.6/site-packages (from ipython>=5.0.0->ipykernel) (2.6.1)\n",
      "Requirement already satisfied: pickleshare in /opt/ohpc/pub/apps/python/3.6.5/lib/python3.6/site-packages (from ipython>=5.0.0->ipykernel) (0.7.5)\n",
      "Requirement already satisfied: jedi>=0.10 in /opt/ohpc/pub/apps/python/3.6.5/lib/python3.6/site-packages (from ipython>=5.0.0->ipykernel) (0.17.0)\n",
      "Requirement already satisfied: python-dateutil>=2.1 in /opt/ohpc/pub/apps/python/3.6.5/lib/python3.6/site-packages (from jupyter-client->ipykernel) (2.8.1)\n",
      "Requirement already satisfied: pyzmq>=13 in /opt/ohpc/pub/apps/python/3.6.5/lib/python3.6/site-packages (from jupyter-client->ipykernel) (19.0.1)\n",
      "Requirement already satisfied: jupyter-core>=4.6.0 in /opt/ohpc/pub/apps/python/3.6.5/lib/python3.6/site-packages (from jupyter-client->ipykernel) (4.6.3)\n",
      "Requirement already satisfied: wcwidth in /opt/ohpc/pub/apps/python/3.6.5/lib/python3.6/site-packages (from prompt-toolkit!=3.0.0,!=3.0.1,<3.1.0,>=2.0.0->ipython>=5.0.0->ipykernel) (0.1.9)\n",
      "Requirement already satisfied: ptyprocess>=0.5 in /opt/ohpc/pub/apps/python/3.6.5/lib/python3.6/site-packages (from pexpect; sys_platform != \"win32\"->ipython>=5.0.0->ipykernel) (0.6.0)\n",
      "Requirement already satisfied: parso>=0.7.0 in /opt/ohpc/pub/apps/python/3.6.5/lib/python3.6/site-packages (from jedi>=0.10->ipython>=5.0.0->ipykernel) (0.7.0)\n",
      "\u001b[33mWARNING: You are using pip version 20.1; however, version 21.1.2 is available.\n",
      "You should consider upgrading via the '/home/u23/laureld/KEYS_py/bin/python -m pip install --upgrade pip' command.\u001b[0m\n",
      "Installed kernelspec KEYS_py in /home/u23/laureld/.local/share/jupyter/kernels/keys_py\n"
     ]
    }
   ],
   "source": [
    "#activates the newly created virtual environment called \"KEYS_py\"\n",
    "!source ~/KEYS_py/bin/activate;pip install scikit-image;pip install numpy; pip install matplotlib; pip install ipykernel; python -m ipykernel install --user --name=KEYS_py\n"
   ]
  },
  {
   "cell_type": "code",
   "execution_count": 4,
   "metadata": {},
   "outputs": [
    {
     "name": "stdout",
     "output_type": "stream",
     "text": [
      "/xdisk/hutchinsone/mig2020/rsgrps/hutchinsone/Data/Development/LAD_KEYS\r\n"
     ]
    }
   ],
   "source": [
    "!ls "
   ]
  }
 ],
 "metadata": {
  "kernelspec": {
   "display_name": "Python 3",
   "language": "python",
   "name": "python3"
  },
  "language_info": {
   "codemirror_mode": {
    "name": "ipython",
    "version": 3
   },
   "file_extension": ".py",
   "mimetype": "text/x-python",
   "name": "python",
   "nbconvert_exporter": "python",
   "pygments_lexer": "ipython3",
   "version": "3.6.5"
  }
 },
 "nbformat": 4,
 "nbformat_minor": 2
}
